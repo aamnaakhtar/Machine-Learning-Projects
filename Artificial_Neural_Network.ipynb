{
  "nbformat": 4,
  "nbformat_minor": 0,
  "metadata": {
    "colab": {
      "name": "Copy of Artificial Neural Network",
      "provenance": [],
      "collapsed_sections": [],
      "include_colab_link": true
    },
    "kernelspec": {
      "name": "python3",
      "display_name": "Python 3"
    }
  },
  "cells": [
    {
      "cell_type": "markdown",
      "metadata": {
        "id": "view-in-github",
        "colab_type": "text"
      },
      "source": [
        "<a href=\"https://colab.research.google.com/github/aamnaakhtar/Machine-Learning-Projects/blob/main/Artificial_Neural_Network.ipynb\" target=\"_parent\"><img src=\"https://colab.research.google.com/assets/colab-badge.svg\" alt=\"Open In Colab\"/></a>"
      ]
    },
    {
      "cell_type": "markdown",
      "metadata": {
        "id": "3cbb7fRy-eyr"
      },
      "source": [
        "# Artificial Neural Network"
      ]
    },
    {
      "cell_type": "markdown",
      "metadata": {
        "id": "8sNDnxE2-pwE"
      },
      "source": [
        "### Importing the libraries"
      ]
    },
    {
      "cell_type": "code",
      "metadata": {
        "id": "_9TzQMZnGuNx"
      },
      "source": [
        "import numpy as np\n",
        "import pandas as pd\n",
        "import tensorflow as tf"
      ],
      "execution_count": null,
      "outputs": []
    },
    {
      "cell_type": "markdown",
      "metadata": {
        "id": "AG3FQEch-yuA"
      },
      "source": [
        "## Part 1 - Data Preprocessing"
      ]
    },
    {
      "cell_type": "markdown",
      "metadata": {
        "id": "-4zq8Mza_D9O"
      },
      "source": [
        "### Importing the dataset"
      ]
    },
    {
      "cell_type": "code",
      "metadata": {
        "id": "EEynpIwLLdeA"
      },
      "source": [
        "dataset = pd.read_excel('Folds5x2_pp.xlsx')\n",
        "X = dataset.iloc[:, :-1].values\n",
        "y = dataset.iloc[:, -1].values"
      ],
      "execution_count": null,
      "outputs": []
    },
    {
      "cell_type": "markdown",
      "metadata": {
        "id": "VC6omXel_Up0"
      },
      "source": [
        "### Splitting the dataset into the Training set and Test set"
      ]
    },
    {
      "cell_type": "code",
      "metadata": {
        "id": "x9ansDveM8Dd"
      },
      "source": [
        "from sklearn.model_selection import train_test_split\n",
        "X_train, X_test, y_train, y_test = train_test_split(X, y, test_size=0.2, random_state = 0)"
      ],
      "execution_count": null,
      "outputs": []
    },
    {
      "cell_type": "markdown",
      "metadata": {
        "id": "_mSLlAT9_eyI"
      },
      "source": [
        "## Part 2 - Building the ANN"
      ]
    },
    {
      "cell_type": "markdown",
      "metadata": {
        "id": "CsBULd_f_wLY"
      },
      "source": [
        "### Initializing the ANN"
      ]
    },
    {
      "cell_type": "code",
      "metadata": {
        "id": "ifE08GuDNX5W"
      },
      "source": [
        "ann = tf.keras.models.Sequential()"
      ],
      "execution_count": null,
      "outputs": []
    },
    {
      "cell_type": "markdown",
      "metadata": {
        "id": "iitAFJS_ABUn"
      },
      "source": [
        "### Adding the input layer and the first hidden layer"
      ]
    },
    {
      "cell_type": "code",
      "metadata": {
        "id": "M-ZyqrJNNi-R"
      },
      "source": [
        "ann.add(tf.keras.layers.Dense(units=6, activation='relu'))"
      ],
      "execution_count": null,
      "outputs": []
    },
    {
      "cell_type": "markdown",
      "metadata": {
        "id": "-lb4kK_wAKbs"
      },
      "source": [
        "### Adding the second hidden layer"
      ]
    },
    {
      "cell_type": "code",
      "metadata": {
        "id": "pga3BCWFN2Qp"
      },
      "source": [
        "ann.add(tf.keras.layers.Dense(units=6, activation='relu'))"
      ],
      "execution_count": null,
      "outputs": []
    },
    {
      "cell_type": "markdown",
      "metadata": {
        "id": "jwMOmKb3AdBY"
      },
      "source": [
        "### Adding the output layer"
      ]
    },
    {
      "cell_type": "code",
      "metadata": {
        "id": "uvMquthAN75c"
      },
      "source": [
        "ann.add(tf.keras.layers.Dense(units=1))"
      ],
      "execution_count": null,
      "outputs": []
    },
    {
      "cell_type": "markdown",
      "metadata": {
        "id": "fq7e4fF6A1yy"
      },
      "source": [
        "## Part 3 - Training the ANN"
      ]
    },
    {
      "cell_type": "markdown",
      "metadata": {
        "id": "qDeylAs2An25"
      },
      "source": [
        "### Compiling the ANN"
      ]
    },
    {
      "cell_type": "code",
      "metadata": {
        "id": "8CpVfs5ROAsU"
      },
      "source": [
        "ann.compile(optimizer='adam', loss= 'mean_squared_error')"
      ],
      "execution_count": null,
      "outputs": []
    },
    {
      "cell_type": "markdown",
      "metadata": {
        "id": "YjVuiybYOo7r"
      },
      "source": [
        "### Training the ANN model on the Training set"
      ]
    },
    {
      "cell_type": "code",
      "metadata": {
        "colab": {
          "base_uri": "https://localhost:8080/"
        },
        "id": "-eHeuT-3OYqN",
        "outputId": "733d6bb1-3b9f-4d24-b72c-f9d292fc25c1"
      },
      "source": [
        "ann.fit(X_train, y_train, batch_size=32, epochs=100)"
      ],
      "execution_count": null,
      "outputs": [
        {
          "output_type": "stream",
          "text": [
            "Epoch 1/100\n",
            "240/240 [==============================] - 1s 1ms/step - loss: 17513.1465\n",
            "Epoch 2/100\n",
            "240/240 [==============================] - 0s 1ms/step - loss: 185.1429\n",
            "Epoch 3/100\n",
            "240/240 [==============================] - 0s 1ms/step - loss: 117.9770\n",
            "Epoch 4/100\n",
            "240/240 [==============================] - 0s 1ms/step - loss: 85.5639\n",
            "Epoch 5/100\n",
            "240/240 [==============================] - 0s 1ms/step - loss: 73.8581\n",
            "Epoch 6/100\n",
            "240/240 [==============================] - 0s 1ms/step - loss: 63.8470\n",
            "Epoch 7/100\n",
            "240/240 [==============================] - 0s 1ms/step - loss: 54.7704\n",
            "Epoch 8/100\n",
            "240/240 [==============================] - 0s 1ms/step - loss: 49.4533\n",
            "Epoch 9/100\n",
            "240/240 [==============================] - 0s 1ms/step - loss: 45.7975\n",
            "Epoch 10/100\n",
            "240/240 [==============================] - 0s 1ms/step - loss: 43.0516\n",
            "Epoch 11/100\n",
            "240/240 [==============================] - 0s 1ms/step - loss: 40.5023\n",
            "Epoch 12/100\n",
            "240/240 [==============================] - 0s 1ms/step - loss: 38.5867\n",
            "Epoch 13/100\n",
            "240/240 [==============================] - 0s 1ms/step - loss: 36.4494\n",
            "Epoch 14/100\n",
            "240/240 [==============================] - 0s 1ms/step - loss: 35.1128\n",
            "Epoch 15/100\n",
            "240/240 [==============================] - 0s 1ms/step - loss: 32.5377\n",
            "Epoch 16/100\n",
            "240/240 [==============================] - 0s 1ms/step - loss: 31.6308\n",
            "Epoch 17/100\n",
            "240/240 [==============================] - 0s 1ms/step - loss: 31.0226\n",
            "Epoch 18/100\n",
            "240/240 [==============================] - 0s 1ms/step - loss: 29.9539\n",
            "Epoch 19/100\n",
            "240/240 [==============================] - 0s 1ms/step - loss: 28.8461\n",
            "Epoch 20/100\n",
            "240/240 [==============================] - 0s 1ms/step - loss: 27.5995\n",
            "Epoch 21/100\n",
            "240/240 [==============================] - 0s 1ms/step - loss: 27.8949\n",
            "Epoch 22/100\n",
            "240/240 [==============================] - 0s 1ms/step - loss: 27.3490\n",
            "Epoch 23/100\n",
            "240/240 [==============================] - 0s 1ms/step - loss: 27.2014\n",
            "Epoch 24/100\n",
            "240/240 [==============================] - 0s 1ms/step - loss: 25.7878\n",
            "Epoch 25/100\n",
            "240/240 [==============================] - 0s 1ms/step - loss: 26.6863\n",
            "Epoch 26/100\n",
            "240/240 [==============================] - 0s 1ms/step - loss: 26.5909\n",
            "Epoch 27/100\n",
            "240/240 [==============================] - 0s 1ms/step - loss: 26.1965\n",
            "Epoch 28/100\n",
            "240/240 [==============================] - 0s 1ms/step - loss: 25.3848\n",
            "Epoch 29/100\n",
            "240/240 [==============================] - 0s 1ms/step - loss: 27.4312\n",
            "Epoch 30/100\n",
            "240/240 [==============================] - 0s 1ms/step - loss: 26.1975\n",
            "Epoch 31/100\n",
            "240/240 [==============================] - 0s 1ms/step - loss: 26.5778\n",
            "Epoch 32/100\n",
            "240/240 [==============================] - 0s 1ms/step - loss: 25.1232\n",
            "Epoch 33/100\n",
            "240/240 [==============================] - 0s 1ms/step - loss: 25.8350\n",
            "Epoch 34/100\n",
            "240/240 [==============================] - 0s 1ms/step - loss: 25.6253\n",
            "Epoch 35/100\n",
            "240/240 [==============================] - 0s 1ms/step - loss: 26.6223\n",
            "Epoch 36/100\n",
            "240/240 [==============================] - 0s 1ms/step - loss: 25.6928\n",
            "Epoch 37/100\n",
            "240/240 [==============================] - 0s 1ms/step - loss: 25.9957\n",
            "Epoch 38/100\n",
            "240/240 [==============================] - 0s 1ms/step - loss: 27.1036\n",
            "Epoch 39/100\n",
            "240/240 [==============================] - 0s 1ms/step - loss: 25.8380\n",
            "Epoch 40/100\n",
            "240/240 [==============================] - 0s 1ms/step - loss: 24.8359\n",
            "Epoch 41/100\n",
            "240/240 [==============================] - 0s 1ms/step - loss: 25.7033\n",
            "Epoch 42/100\n",
            "240/240 [==============================] - 0s 1ms/step - loss: 25.0342\n",
            "Epoch 43/100\n",
            "240/240 [==============================] - 0s 1ms/step - loss: 26.3206\n",
            "Epoch 44/100\n",
            "240/240 [==============================] - 0s 1ms/step - loss: 26.3081\n",
            "Epoch 45/100\n",
            "240/240 [==============================] - 0s 1ms/step - loss: 25.5040\n",
            "Epoch 46/100\n",
            "240/240 [==============================] - 0s 1ms/step - loss: 25.2442\n",
            "Epoch 47/100\n",
            "240/240 [==============================] - 0s 1ms/step - loss: 24.4912\n",
            "Epoch 48/100\n",
            "240/240 [==============================] - 0s 1ms/step - loss: 26.3144\n",
            "Epoch 49/100\n",
            "240/240 [==============================] - 0s 1ms/step - loss: 25.2408\n",
            "Epoch 50/100\n",
            "240/240 [==============================] - 0s 1ms/step - loss: 25.2758\n",
            "Epoch 51/100\n",
            "240/240 [==============================] - 0s 1ms/step - loss: 24.9422\n",
            "Epoch 52/100\n",
            "240/240 [==============================] - 0s 1ms/step - loss: 25.7477\n",
            "Epoch 53/100\n",
            "240/240 [==============================] - 0s 1ms/step - loss: 25.0924\n",
            "Epoch 54/100\n",
            "240/240 [==============================] - 0s 1ms/step - loss: 26.9322\n",
            "Epoch 55/100\n",
            "240/240 [==============================] - 0s 1ms/step - loss: 24.8500\n",
            "Epoch 56/100\n",
            "240/240 [==============================] - 0s 1ms/step - loss: 25.4865\n",
            "Epoch 57/100\n",
            "240/240 [==============================] - 0s 1ms/step - loss: 25.3070\n",
            "Epoch 58/100\n",
            "240/240 [==============================] - 0s 1ms/step - loss: 25.6510\n",
            "Epoch 59/100\n",
            "240/240 [==============================] - 0s 1ms/step - loss: 25.9449\n",
            "Epoch 60/100\n",
            "240/240 [==============================] - 0s 1ms/step - loss: 26.0536\n",
            "Epoch 61/100\n",
            "240/240 [==============================] - 0s 1ms/step - loss: 25.7076\n",
            "Epoch 62/100\n",
            "240/240 [==============================] - 0s 1ms/step - loss: 25.9981\n",
            "Epoch 63/100\n",
            "240/240 [==============================] - 0s 1ms/step - loss: 25.2838\n",
            "Epoch 64/100\n",
            "240/240 [==============================] - 0s 1ms/step - loss: 25.4098\n",
            "Epoch 65/100\n",
            "240/240 [==============================] - 0s 1ms/step - loss: 24.6177\n",
            "Epoch 66/100\n",
            "240/240 [==============================] - 0s 1ms/step - loss: 25.3496\n",
            "Epoch 67/100\n",
            "240/240 [==============================] - 0s 1ms/step - loss: 25.9031\n",
            "Epoch 68/100\n",
            "240/240 [==============================] - 0s 1ms/step - loss: 24.6238\n",
            "Epoch 69/100\n",
            "240/240 [==============================] - 0s 1ms/step - loss: 25.4505\n",
            "Epoch 70/100\n",
            "240/240 [==============================] - 0s 1ms/step - loss: 25.7993\n",
            "Epoch 71/100\n",
            "240/240 [==============================] - 0s 1ms/step - loss: 26.2613\n",
            "Epoch 72/100\n",
            "240/240 [==============================] - 0s 1ms/step - loss: 24.4636\n",
            "Epoch 73/100\n",
            "240/240 [==============================] - 0s 1ms/step - loss: 25.1027\n",
            "Epoch 74/100\n",
            "240/240 [==============================] - 0s 1ms/step - loss: 25.5167\n",
            "Epoch 75/100\n",
            "240/240 [==============================] - 0s 1ms/step - loss: 24.7344\n",
            "Epoch 76/100\n",
            "240/240 [==============================] - 0s 1ms/step - loss: 25.2534\n",
            "Epoch 77/100\n",
            "240/240 [==============================] - 0s 1ms/step - loss: 25.2247\n",
            "Epoch 78/100\n",
            "240/240 [==============================] - 0s 1ms/step - loss: 25.1386\n",
            "Epoch 79/100\n",
            "240/240 [==============================] - 0s 1ms/step - loss: 25.2470\n",
            "Epoch 80/100\n",
            "240/240 [==============================] - 0s 1ms/step - loss: 25.0276\n",
            "Epoch 81/100\n",
            "240/240 [==============================] - 0s 1ms/step - loss: 25.3305\n",
            "Epoch 82/100\n",
            "240/240 [==============================] - 0s 1ms/step - loss: 25.6003\n",
            "Epoch 83/100\n",
            "240/240 [==============================] - 0s 1ms/step - loss: 24.8856\n",
            "Epoch 84/100\n",
            "240/240 [==============================] - 0s 1ms/step - loss: 25.6488\n",
            "Epoch 85/100\n",
            "240/240 [==============================] - 0s 1ms/step - loss: 25.7578\n",
            "Epoch 86/100\n",
            "240/240 [==============================] - 0s 1ms/step - loss: 27.1899\n",
            "Epoch 87/100\n",
            "240/240 [==============================] - 0s 1ms/step - loss: 25.7498\n",
            "Epoch 88/100\n",
            "240/240 [==============================] - 0s 1ms/step - loss: 25.5096\n",
            "Epoch 89/100\n",
            "240/240 [==============================] - 0s 1ms/step - loss: 24.8586\n",
            "Epoch 90/100\n",
            "240/240 [==============================] - 0s 1ms/step - loss: 24.4813\n",
            "Epoch 91/100\n",
            "240/240 [==============================] - 0s 1ms/step - loss: 25.4584\n",
            "Epoch 92/100\n",
            "240/240 [==============================] - 0s 1ms/step - loss: 24.9823\n",
            "Epoch 93/100\n",
            "240/240 [==============================] - 0s 1ms/step - loss: 25.4414\n",
            "Epoch 94/100\n",
            "240/240 [==============================] - 0s 1ms/step - loss: 25.3748\n",
            "Epoch 95/100\n",
            "240/240 [==============================] - 0s 1ms/step - loss: 26.9403\n",
            "Epoch 96/100\n",
            "240/240 [==============================] - 0s 1ms/step - loss: 25.2899\n",
            "Epoch 97/100\n",
            "240/240 [==============================] - 0s 1ms/step - loss: 25.8848\n",
            "Epoch 98/100\n",
            "240/240 [==============================] - 0s 1ms/step - loss: 25.2180\n",
            "Epoch 99/100\n",
            "240/240 [==============================] - 0s 1ms/step - loss: 24.8065\n",
            "Epoch 100/100\n",
            "240/240 [==============================] - 0s 1ms/step - loss: 25.0655\n"
          ],
          "name": "stdout"
        },
        {
          "output_type": "execute_result",
          "data": {
            "text/plain": [
              "<tensorflow.python.keras.callbacks.History at 0x7f284ba17150>"
            ]
          },
          "metadata": {
            "tags": []
          },
          "execution_count": 9
        }
      ]
    },
    {
      "cell_type": "markdown",
      "metadata": {
        "id": "0H0zKKNEBLD5"
      },
      "source": [
        "### Predicting the results of the Test set"
      ]
    },
    {
      "cell_type": "code",
      "metadata": {
        "colab": {
          "base_uri": "https://localhost:8080/"
        },
        "id": "rrrdoSDATAk4",
        "outputId": "1578449f-d3fd-4e10-dad8-81b717ee8f8e"
      },
      "source": [
        "y_pred = ann.predict(X_test)\n",
        "np.set_printoptions(precision=2)\n",
        "print(np.concatenate((y_pred.reshape(len(y_pred),1), y_test.reshape(len(y_test),1)),1))"
      ],
      "execution_count": null,
      "outputs": [
        {
          "output_type": "stream",
          "text": [
            "[[433.69 431.23]\n",
            " [461.86 460.01]\n",
            " [467.78 461.14]\n",
            " ...\n",
            " [473.99 473.26]\n",
            " [440.22 438.  ]\n",
            " [459.17 463.28]]\n"
          ],
          "name": "stdout"
        }
      ]
    }
  ]
}